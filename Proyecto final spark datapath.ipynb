{
 "cells": [
  {
   "cell_type": "code",
   "execution_count": 36,
   "id": "546da414",
   "metadata": {},
   "outputs": [],
   "source": [
    "#Importar las bibliotecas necesarias\n",
    "# Crear una instancia de SparkSession"
   ]
  },
  {
   "cell_type": "code",
   "execution_count": 1,
   "id": "147db2f0",
   "metadata": {},
   "outputs": [],
   "source": [
    "import findspark\n",
    "findspark.init()\n",
    "\n",
    "import pandas as pd\n",
    "import pyspark\n",
    "\n",
    "from pyspark.sql import functions as f\n",
    "from pyspark.sql import SparkSession\n",
    "\n",
    "from pyspark.sql.functions import lit\n",
    "\n",
    "spark = SparkSession.builder.getOrCreate()\n"
   ]
  },
  {
   "cell_type": "code",
   "execution_count": 2,
   "id": "c4707d0f",
   "metadata": {},
   "outputs": [],
   "source": [
    "# 1. Crear un DataFrame con datos de personas, que incluya nombre, edad y ciudad de residencia."
   ]
  },
  {
   "cell_type": "code",
   "execution_count": 3,
   "id": "1d0a4371",
   "metadata": {},
   "outputs": [
    {
     "name": "stdout",
     "output_type": "stream",
     "text": [
      "+-------+----+-----------+\n",
      "| Nombre|Edad|     Ciudad|\n",
      "+-------+----+-----------+\n",
      "|  Alice|  25|   New York|\n",
      "|    Bob|  30|Los Angeles|\n",
      "|Charlie|  22|    Chicago|\n",
      "+-------+----+-----------+\n",
      "\n"
     ]
    }
   ],
   "source": [
    "\n",
    "data = [(\"Alice\", 25, \"New York\"),\n",
    "        (\"Bob\", 30, \"Los Angeles\"),\n",
    "        (\"Charlie\", 22, \"Chicago\")]\n",
    "\n",
    "df = spark.createDataFrame(data, [\"Nombre\", \"Edad\", \"Ciudad\"])\n",
    "df.show()\n"
   ]
  },
  {
   "cell_type": "code",
   "execution_count": null,
   "id": "5e6979ec",
   "metadata": {},
   "outputs": [],
   "source": [
    "# 2. Mostrar solo los nombres de las personas del DataFrame."
   ]
  },
  {
   "cell_type": "code",
   "execution_count": 4,
   "id": "a1542534",
   "metadata": {},
   "outputs": [
    {
     "name": "stdout",
     "output_type": "stream",
     "text": [
      "+-------+\n",
      "| Nombre|\n",
      "+-------+\n",
      "|  Alice|\n",
      "|    Bob|\n",
      "|Charlie|\n",
      "+-------+\n",
      "\n"
     ]
    }
   ],
   "source": [
    "df.select(\"Nombre\").show()"
   ]
  },
  {
   "cell_type": "code",
   "execution_count": null,
   "id": "12c058db",
   "metadata": {},
   "outputs": [],
   "source": [
    "# 3. Filtrar personas cuya edad sea mayor o igual a 25."
   ]
  },
  {
   "cell_type": "code",
   "execution_count": 5,
   "id": "c7e413f4",
   "metadata": {},
   "outputs": [
    {
     "name": "stdout",
     "output_type": "stream",
     "text": [
      "+------+----+-----------+\n",
      "|Nombre|Edad|     Ciudad|\n",
      "+------+----+-----------+\n",
      "| Alice|  25|   New York|\n",
      "|   Bob|  30|Los Angeles|\n",
      "+------+----+-----------+\n",
      "\n"
     ]
    }
   ],
   "source": [
    "df.filter(df.Edad >= 25).show()"
   ]
  },
  {
   "cell_type": "code",
   "execution_count": null,
   "id": "89d30115",
   "metadata": {},
   "outputs": [],
   "source": [
    "#4. Agregar una nueva columna \"Pais\" con un valor constante para todas las filas.\n"
   ]
  },
  {
   "cell_type": "code",
   "execution_count": 6,
   "id": "fe174c15",
   "metadata": {},
   "outputs": [
    {
     "name": "stdout",
     "output_type": "stream",
     "text": [
      "+-------+----+-----------+----+\n",
      "| Nombre|Edad|     Ciudad|Pais|\n",
      "+-------+----+-----------+----+\n",
      "|  Alice|  25|   New York|EEUU|\n",
      "|    Bob|  30|Los Angeles|EEUU|\n",
      "|Charlie|  22|    Chicago|EEUU|\n",
      "+-------+----+-----------+----+\n",
      "\n"
     ]
    }
   ],
   "source": [
    "df.withColumn(\"Pais\", lit(\"EEUU\")).show()\n"
   ]
  },
  {
   "cell_type": "code",
   "execution_count": null,
   "id": "efeefadd",
   "metadata": {},
   "outputs": [],
   "source": [
    "# 5. Calcular el promedio de edad de todas las personas."
   ]
  },
  {
   "cell_type": "code",
   "execution_count": 7,
   "id": "4d02581f",
   "metadata": {},
   "outputs": [
    {
     "data": {
      "text/plain": [
       "25.666666666666668"
      ]
     },
     "execution_count": 7,
     "metadata": {},
     "output_type": "execute_result"
    }
   ],
   "source": [
    "df.agg(f.avg(\"Edad\")).collect()[0][0]"
   ]
  },
  {
   "cell_type": "code",
   "execution_count": null,
   "id": "e6e25ed4",
   "metadata": {},
   "outputs": [],
   "source": [
    "# 6. Ordenar el DataFrame por edad en orden descendente."
   ]
  },
  {
   "cell_type": "code",
   "execution_count": 8,
   "id": "376f7f0f",
   "metadata": {},
   "outputs": [
    {
     "name": "stdout",
     "output_type": "stream",
     "text": [
      "+-------+----+-----------+\n",
      "| Nombre|Edad|     Ciudad|\n",
      "+-------+----+-----------+\n",
      "|    Bob|  30|Los Angeles|\n",
      "|  Alice|  25|   New York|\n",
      "|Charlie|  22|    Chicago|\n",
      "+-------+----+-----------+\n",
      "\n"
     ]
    }
   ],
   "source": [
    "df.sort(\"Edad\", ascending=False).show()"
   ]
  },
  {
   "cell_type": "code",
   "execution_count": 9,
   "id": "c9f9c073",
   "metadata": {},
   "outputs": [
    {
     "name": "stdout",
     "output_type": "stream",
     "text": [
      "+-----------+-----+\n",
      "|     Ciudad|count|\n",
      "+-----------+-----+\n",
      "|   New York|    1|\n",
      "|Los Angeles|    1|\n",
      "|    Chicago|    1|\n",
      "+-----------+-----+\n",
      "\n"
     ]
    }
   ],
   "source": [
    "# 7. Agrupar por ciudad y calcular la cantidad de personas en cada ciudad.\n",
    "df.groupBy(\"Ciudad\").count().show()"
   ]
  },
  {
   "cell_type": "code",
   "execution_count": 10,
   "id": "3c8be62b",
   "metadata": {},
   "outputs": [
    {
     "name": "stdout",
     "output_type": "stream",
     "text": [
      "+--------------+----+-----------+\n",
      "|NombreCompleto|Edad|     Ciudad|\n",
      "+--------------+----+-----------+\n",
      "|         Alice|  25|   New York|\n",
      "|           Bob|  30|Los Angeles|\n",
      "|       Charlie|  22|    Chicago|\n",
      "+--------------+----+-----------+\n",
      "\n"
     ]
    }
   ],
   "source": [
    "# 8. Renombrar la columna \"Nombre\" a \"NombreCompleto\".\n",
    "df.withColumnRenamed('Nombre', 'NombreCompleto').show()"
   ]
  },
  {
   "cell_type": "code",
   "execution_count": 11,
   "id": "92384d79",
   "metadata": {},
   "outputs": [
    {
     "name": "stdout",
     "output_type": "stream",
     "text": [
      "+-------+-----------+\n",
      "| Nombre|     Ciudad|\n",
      "+-------+-----------+\n",
      "|  Alice|   New York|\n",
      "|    Bob|Los Angeles|\n",
      "|Charlie|    Chicago|\n",
      "+-------+-----------+\n",
      "\n"
     ]
    }
   ],
   "source": [
    "# 9. Eliminar la columna \"Edad\" del DataFrame.\n",
    "df.drop('Edad').show()"
   ]
  },
  {
   "cell_type": "code",
   "execution_count": 12,
   "id": "2c770a62",
   "metadata": {},
   "outputs": [
    {
     "name": "stdout",
     "output_type": "stream",
     "text": [
      "+-------+----+-----------+\n",
      "| Nombre|Edad|     Ciudad|\n",
      "+-------+----+-----------+\n",
      "|  Alice|  25|   New York|\n",
      "|    Bob|  30|Los Angeles|\n",
      "|Charlie|  22|    Chicago|\n",
      "+-------+----+-----------+\n",
      "\n"
     ]
    }
   ],
   "source": [
    "# 10. Realizar una consulta SQL en el DataFrame para seleccionar personas mayores de 20 años.\n",
    "df.createOrReplaceTempView(\"temp_table\")\n",
    "spark.sql(\"select * from temp_table where Edad > 20\").show()"
   ]
  },
  {
   "cell_type": "code",
   "execution_count": 13,
   "id": "2b872ff1",
   "metadata": {},
   "outputs": [
    {
     "name": "stdout",
     "output_type": "stream",
     "text": [
      "+----------+\n",
      "|Total_Edad|\n",
      "+----------+\n",
      "|        77|\n",
      "+----------+\n",
      "\n"
     ]
    }
   ],
   "source": [
    "# 11. Calcular la suma total de todas las edades.\n",
    "spark.sql(\"select sum(Edad) as Total_Edad from temp_table\").show()"
   ]
  },
  {
   "cell_type": "code",
   "execution_count": 14,
   "id": "850e2972",
   "metadata": {},
   "outputs": [
    {
     "name": "stdout",
     "output_type": "stream",
     "text": [
      "+--------+--------+\n",
      "|Max_Edad|Min_Edad|\n",
      "+--------+--------+\n",
      "|      30|      22|\n",
      "+--------+--------+\n",
      "\n"
     ]
    }
   ],
   "source": [
    "\n",
    "# 12. Calcular la edad mínima y máxima de todas las personas.\n",
    "spark.sql(\"select max(Edad) as Max_Edad,min(Edad) as Min_Edad from temp_table\").show()"
   ]
  },
  {
   "cell_type": "code",
   "execution_count": 15,
   "id": "162a5602",
   "metadata": {},
   "outputs": [
    {
     "name": "stdout",
     "output_type": "stream",
     "text": [
      "+-------+----+-------+\n",
      "| Nombre|Edad| Ciudad|\n",
      "+-------+----+-------+\n",
      "|Charlie|  22|Chicago|\n",
      "+-------+----+-------+\n",
      "\n"
     ]
    }
   ],
   "source": [
    "# 13. Filtrar personas cuya ciudad de residencia sea \"Chicago\" y edad sea menor de 30.\n",
    "spark.sql(\"select * from temp_table where Ciudad = 'Chicago' and Edad < 30\").show()"
   ]
  },
  {
   "cell_type": "code",
   "execution_count": 16,
   "id": "4e597283",
   "metadata": {},
   "outputs": [
    {
     "name": "stdout",
     "output_type": "stream",
     "text": [
      "+-------+----+-----------+-------------+\n",
      "| Nombre|Edad|     Ciudad|EdadDuplicada|\n",
      "+-------+----+-----------+-------------+\n",
      "|  Alice|  25|   New York|           50|\n",
      "|    Bob|  30|Los Angeles|           60|\n",
      "|Charlie|  22|    Chicago|           44|\n",
      "+-------+----+-----------+-------------+\n",
      "\n"
     ]
    }
   ],
   "source": [
    "# 14. Agregar una nueva columna \"EdadDuplicada\" que contenga el doble de la edad.\n",
    "df.withColumn(\"EdadDuplicada\", df.Edad * 2).show()"
   ]
  },
  {
   "cell_type": "code",
   "execution_count": 19,
   "id": "bef52a91",
   "metadata": {},
   "outputs": [
    {
     "name": "stdout",
     "output_type": "stream",
     "text": [
      "+-------+----+-----------+\n",
      "| Nombre|Edad|     Ciudad|\n",
      "+-------+----+-----------+\n",
      "|  Alice| 300|   New York|\n",
      "|    Bob| 360|Los Angeles|\n",
      "|Charlie| 264|    Chicago|\n",
      "+-------+----+-----------+\n",
      "\n"
     ]
    }
   ],
   "source": [
    "# 15. Convertir todas las edades en años a meses.\n",
    "df.withColumn(\"Edad\", df.Edad * 12).show()"
   ]
  },
  {
   "cell_type": "code",
   "execution_count": 23,
   "id": "b203009b",
   "metadata": {},
   "outputs": [
    {
     "name": "stdout",
     "output_type": "stream",
     "text": [
      "+--------------------+\n",
      "|Cantidad_de_Personas|\n",
      "+--------------------+\n",
      "|                   3|\n",
      "+--------------------+\n",
      "\n"
     ]
    }
   ],
   "source": [
    "# 16. Contar el número total de personas en el DataFrame.\n",
    "spark.sql(\"select count(distinct(Nombre)) as Cantidad_de_Personas from temp_table\").show()"
   ]
  },
  {
   "cell_type": "code",
   "execution_count": 24,
   "id": "32d3b90f",
   "metadata": {},
   "outputs": [
    {
     "name": "stdout",
     "output_type": "stream",
     "text": [
      "+-------+----+-----------+\n",
      "| Nombre|Edad|     Ciudad|\n",
      "+-------+----+-----------+\n",
      "|    Bob|  30|Los Angeles|\n",
      "|Charlie|  22|    Chicago|\n",
      "+-------+----+-----------+\n",
      "\n"
     ]
    }
   ],
   "source": [
    "# 17. Filtrar personas cuya edad sea un número par.\n",
    "df.filter(f.expr(\"Edad % 2 == 0\")).show()"
   ]
  },
  {
   "cell_type": "code",
   "execution_count": 32,
   "id": "e9a0140c",
   "metadata": {},
   "outputs": [
    {
     "name": "stdout",
     "output_type": "stream",
     "text": [
      "+-------------+-----+\n",
      "|Edad_cantidad|count|\n",
      "+-------------+-----+\n",
      "|        21-40|    3|\n",
      "+-------------+-----+\n",
      "\n"
     ]
    }
   ],
   "source": [
    "# 18. Calcular la cantidad de personas por rango de edades (0-20, 21-40, 41-60, 61+).\n",
    "from pyspark.sql.functions import expr\n",
    "cond = \"\"\"case when Edad > 60 then '61+'\n",
    "               else case when Edad >= 41 then '41-60'\n",
    "                    else case when Edad >= 21 then '21-40'\n",
    "                         else '0-20'\n",
    "                              end\n",
    "                         end\n",
    "                end as cantidad\"\"\"\n",
    "\n",
    "newdf = df.withColumn(\"Edad_cantidad\", expr(cond))\n",
    "\n",
    "newdf.groupBy(\"Edad_cantidad\").count().show()\n"
   ]
  },
  {
   "cell_type": "code",
   "execution_count": 34,
   "id": "99c0abfa",
   "metadata": {},
   "outputs": [
    {
     "name": "stdout",
     "output_type": "stream",
     "text": [
      "+-------+-----+\n",
      "| Nombre|count|\n",
      "+-------+-----+\n",
      "|  Alice|    1|\n",
      "|    Bob|    1|\n",
      "|Charlie|    1|\n",
      "+-------+-----+\n",
      "\n"
     ]
    }
   ],
   "source": [
    "# 19. Contar cuántas personas tienen el mismo nombre.\n",
    "df.groupBy(\"Nombre\").count().show()"
   ]
  },
  {
   "cell_type": "code",
   "execution_count": 35,
   "id": "ad951c2b",
   "metadata": {},
   "outputs": [
    {
     "name": "stdout",
     "output_type": "stream",
     "text": [
      "+-------+----+-----------+-------------------+\n",
      "| Nombre|Edad|     Ciudad|InformacionPersonal|\n",
      "+-------+----+-----------+-------------------+\n",
      "|  Alice|  25|   New York|    Alice, New York|\n",
      "|    Bob|  30|Los Angeles|   Bob, Los Angeles|\n",
      "|Charlie|  22|    Chicago|   Charlie, Chicago|\n",
      "+-------+----+-----------+-------------------+\n",
      "\n"
     ]
    }
   ],
   "source": [
    "# 20. Concatenar las columnas \"Nombre\" y \"Ciudad\" en una nueva columna llamada \"InformacionPersonal\".\n",
    "df.withColumn(\"InformacionPersonal\", f.concat(\"Nombre\", f.lit(\", \"), \"Ciudad\")).show()"
   ]
  }
 ],
 "metadata": {
  "kernelspec": {
   "display_name": "Python 3 (ipykernel)",
   "language": "python",
   "name": "python3"
  },
  "language_info": {
   "codemirror_mode": {
    "name": "ipython",
    "version": 3
   },
   "file_extension": ".py",
   "mimetype": "text/x-python",
   "name": "python",
   "nbconvert_exporter": "python",
   "pygments_lexer": "ipython3",
   "version": "3.8.8"
  }
 },
 "nbformat": 4,
 "nbformat_minor": 5
}
